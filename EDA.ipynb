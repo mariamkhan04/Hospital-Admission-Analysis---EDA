{
 "cells": [
  {
   "cell_type": "markdown",
   "id": "bfb24fd8",
   "metadata": {},
   "source": [
    "**PROJECT: HOSPITAL ADMISSION ANALYSIS**\n",
    "\n",
    "**PROBLEM STATEMENT:**\n",
    "\n",
    "A city hospital wants to analyze its admission trends to improve scheduling, reduce waiting times, and\n",
    "manage resources more effectively. You've been provided with anonymized patient admission data. Your\n",
    "task is to perform basic exploratory data analysis (EDA) to discover useful patterns."
   ]
  },
  {
   "cell_type": "markdown",
   "id": "b661a351",
   "metadata": {},
   "source": [
    "**IMPORT LIBRARIES**"
   ]
  },
  {
   "cell_type": "code",
   "execution_count": 201,
   "id": "08e01b8e",
   "metadata": {},
   "outputs": [],
   "source": [
    "import pandas as pd\n",
    "import matplotlib.pyplot as plt"
   ]
  },
  {
   "cell_type": "markdown",
   "id": "7147a4b8",
   "metadata": {},
   "source": [
    "**DATA EXPLORATION**"
   ]
  },
  {
   "cell_type": "code",
   "execution_count": 202,
   "id": "7130e72c",
   "metadata": {},
   "outputs": [
    {
     "data": {
      "text/html": [
       "<div>\n",
       "<style scoped>\n",
       "    .dataframe tbody tr th:only-of-type {\n",
       "        vertical-align: middle;\n",
       "    }\n",
       "\n",
       "    .dataframe tbody tr th {\n",
       "        vertical-align: top;\n",
       "    }\n",
       "\n",
       "    .dataframe thead th {\n",
       "        text-align: right;\n",
       "    }\n",
       "</style>\n",
       "<table border=\"1\" class=\"dataframe\">\n",
       "  <thead>\n",
       "    <tr style=\"text-align: right;\">\n",
       "      <th></th>\n",
       "      <th>SNO</th>\n",
       "      <th>MRD No.</th>\n",
       "      <th>D.O.A</th>\n",
       "      <th>D.O.D</th>\n",
       "      <th>AGE</th>\n",
       "      <th>GENDER</th>\n",
       "      <th>RURAL</th>\n",
       "      <th>TYPE OF ADMISSION-EMERGENCY/OPD</th>\n",
       "      <th>month year</th>\n",
       "      <th>DURATION OF STAY</th>\n",
       "      <th>...</th>\n",
       "      <th>CONGENITAL</th>\n",
       "      <th>UTI</th>\n",
       "      <th>NEURO CARDIOGENIC SYNCOPE</th>\n",
       "      <th>ORTHOSTATIC</th>\n",
       "      <th>INFECTIVE ENDOCARDITIS</th>\n",
       "      <th>DVT</th>\n",
       "      <th>CARDIOGENIC SHOCK</th>\n",
       "      <th>SHOCK</th>\n",
       "      <th>PULMONARY EMBOLISM</th>\n",
       "      <th>CHEST INFECTION</th>\n",
       "    </tr>\n",
       "  </thead>\n",
       "  <tbody>\n",
       "    <tr>\n",
       "      <th>0</th>\n",
       "      <td>1</td>\n",
       "      <td>234735</td>\n",
       "      <td>4/1/2017</td>\n",
       "      <td>4/3/2017</td>\n",
       "      <td>81</td>\n",
       "      <td>M</td>\n",
       "      <td>R</td>\n",
       "      <td>E</td>\n",
       "      <td>Apr-17</td>\n",
       "      <td>3</td>\n",
       "      <td>...</td>\n",
       "      <td>0</td>\n",
       "      <td>0</td>\n",
       "      <td>0</td>\n",
       "      <td>0</td>\n",
       "      <td>0</td>\n",
       "      <td>0</td>\n",
       "      <td>0</td>\n",
       "      <td>0</td>\n",
       "      <td>0</td>\n",
       "      <td>0</td>\n",
       "    </tr>\n",
       "    <tr>\n",
       "      <th>1</th>\n",
       "      <td>2</td>\n",
       "      <td>234696</td>\n",
       "      <td>4/1/2017</td>\n",
       "      <td>4/5/2017</td>\n",
       "      <td>65</td>\n",
       "      <td>M</td>\n",
       "      <td>R</td>\n",
       "      <td>E</td>\n",
       "      <td>Apr-17</td>\n",
       "      <td>5</td>\n",
       "      <td>...</td>\n",
       "      <td>0</td>\n",
       "      <td>0</td>\n",
       "      <td>0</td>\n",
       "      <td>0</td>\n",
       "      <td>0</td>\n",
       "      <td>0</td>\n",
       "      <td>0</td>\n",
       "      <td>0</td>\n",
       "      <td>0</td>\n",
       "      <td>0</td>\n",
       "    </tr>\n",
       "    <tr>\n",
       "      <th>2</th>\n",
       "      <td>3</td>\n",
       "      <td>234882</td>\n",
       "      <td>4/1/2017</td>\n",
       "      <td>4/3/2017</td>\n",
       "      <td>53</td>\n",
       "      <td>M</td>\n",
       "      <td>U</td>\n",
       "      <td>E</td>\n",
       "      <td>Apr-17</td>\n",
       "      <td>3</td>\n",
       "      <td>...</td>\n",
       "      <td>0</td>\n",
       "      <td>0</td>\n",
       "      <td>0</td>\n",
       "      <td>0</td>\n",
       "      <td>0</td>\n",
       "      <td>0</td>\n",
       "      <td>0</td>\n",
       "      <td>0</td>\n",
       "      <td>0</td>\n",
       "      <td>0</td>\n",
       "    </tr>\n",
       "    <tr>\n",
       "      <th>3</th>\n",
       "      <td>4</td>\n",
       "      <td>234635</td>\n",
       "      <td>4/1/2017</td>\n",
       "      <td>4/8/2017</td>\n",
       "      <td>67</td>\n",
       "      <td>F</td>\n",
       "      <td>U</td>\n",
       "      <td>E</td>\n",
       "      <td>Apr-17</td>\n",
       "      <td>8</td>\n",
       "      <td>...</td>\n",
       "      <td>0</td>\n",
       "      <td>0</td>\n",
       "      <td>0</td>\n",
       "      <td>0</td>\n",
       "      <td>0</td>\n",
       "      <td>0</td>\n",
       "      <td>0</td>\n",
       "      <td>0</td>\n",
       "      <td>0</td>\n",
       "      <td>0</td>\n",
       "    </tr>\n",
       "    <tr>\n",
       "      <th>4</th>\n",
       "      <td>5</td>\n",
       "      <td>234486</td>\n",
       "      <td>4/1/2017</td>\n",
       "      <td>4/23/2017</td>\n",
       "      <td>60</td>\n",
       "      <td>F</td>\n",
       "      <td>U</td>\n",
       "      <td>E</td>\n",
       "      <td>Apr-17</td>\n",
       "      <td>23</td>\n",
       "      <td>...</td>\n",
       "      <td>0</td>\n",
       "      <td>0</td>\n",
       "      <td>0</td>\n",
       "      <td>0</td>\n",
       "      <td>0</td>\n",
       "      <td>0</td>\n",
       "      <td>0</td>\n",
       "      <td>0</td>\n",
       "      <td>0</td>\n",
       "      <td>0</td>\n",
       "    </tr>\n",
       "  </tbody>\n",
       "</table>\n",
       "<p>5 rows × 56 columns</p>\n",
       "</div>"
      ],
      "text/plain": [
       "   SNO MRD No.     D.O.A      D.O.D  AGE GENDER RURAL  \\\n",
       "0    1  234735  4/1/2017   4/3/2017   81      M     R   \n",
       "1    2  234696  4/1/2017   4/5/2017   65      M     R   \n",
       "2    3  234882  4/1/2017   4/3/2017   53      M     U   \n",
       "3    4  234635  4/1/2017   4/8/2017   67      F     U   \n",
       "4    5  234486  4/1/2017  4/23/2017   60      F     U   \n",
       "\n",
       "  TYPE OF ADMISSION-EMERGENCY/OPD month year  DURATION OF STAY  ...  \\\n",
       "0                               E     Apr-17                 3  ...   \n",
       "1                               E     Apr-17                 5  ...   \n",
       "2                               E     Apr-17                 3  ...   \n",
       "3                               E     Apr-17                 8  ...   \n",
       "4                               E     Apr-17                23  ...   \n",
       "\n",
       "   CONGENITAL UTI  NEURO CARDIOGENIC SYNCOPE  ORTHOSTATIC  \\\n",
       "0           0   0                          0            0   \n",
       "1           0   0                          0            0   \n",
       "2           0   0                          0            0   \n",
       "3           0   0                          0            0   \n",
       "4           0   0                          0            0   \n",
       "\n",
       "   INFECTIVE ENDOCARDITIS  DVT  CARDIOGENIC SHOCK  SHOCK  PULMONARY EMBOLISM  \\\n",
       "0                       0    0                  0      0                   0   \n",
       "1                       0    0                  0      0                   0   \n",
       "2                       0    0                  0      0                   0   \n",
       "3                       0    0                  0      0                   0   \n",
       "4                       0    0                  0      0                   0   \n",
       "\n",
       "  CHEST INFECTION  \n",
       "0               0  \n",
       "1               0  \n",
       "2               0  \n",
       "3               0  \n",
       "4               0  \n",
       "\n",
       "[5 rows x 56 columns]"
      ]
     },
     "execution_count": 202,
     "metadata": {},
     "output_type": "execute_result"
    }
   ],
   "source": [
    "# LOAD THE DATASET\n",
    "\n",
    "admissions_df = pd.read_csv('src/admission.csv')\n",
    "admissions_df.head()"
   ]
  },
  {
   "cell_type": "code",
   "execution_count": 203,
   "id": "7e1a10d3",
   "metadata": {},
   "outputs": [
    {
     "name": "stdout",
     "output_type": "stream",
     "text": [
      "DATA OVERVIEW\n",
      "<class 'pandas.core.frame.DataFrame'>\n",
      "RangeIndex: 15757 entries, 0 to 15756\n",
      "Data columns (total 56 columns):\n",
      " #   Column                           Non-Null Count  Dtype \n",
      "---  ------                           --------------  ----- \n",
      " 0   SNO                              15757 non-null  int64 \n",
      " 1   MRD No.                          15757 non-null  object\n",
      " 2   D.O.A                            15757 non-null  object\n",
      " 3   D.O.D                            15757 non-null  object\n",
      " 4   AGE                              15757 non-null  int64 \n",
      " 5   GENDER                           15757 non-null  object\n",
      " 6   RURAL                            15757 non-null  object\n",
      " 7   TYPE OF ADMISSION-EMERGENCY/OPD  15757 non-null  object\n",
      " 8   month year                       15757 non-null  object\n",
      " 9   DURATION OF STAY                 15757 non-null  int64 \n",
      " 10  duration of intensive unit stay  15757 non-null  int64 \n",
      " 11  OUTCOME                          15757 non-null  object\n",
      " 12  SMOKING                          15757 non-null  int64 \n",
      " 13  ALCOHOL                          15757 non-null  int64 \n",
      " 14  DM                               15757 non-null  int64 \n",
      " 15  HTN                              15757 non-null  int64 \n",
      " 16  CAD                              15757 non-null  int64 \n",
      " 17  PRIOR CMP                        15757 non-null  int64 \n",
      " 18  CKD                              15757 non-null  int64 \n",
      " 19  HB                               15505 non-null  object\n",
      " 20  TLC                              15471 non-null  object\n",
      " 21  PLATELETS                        15472 non-null  object\n",
      " 22  GLUCOSE                          14894 non-null  object\n",
      " 23  UREA                             15516 non-null  object\n",
      " 24  CREATININE                       15510 non-null  object\n",
      " 25  BNP                              7316 non-null   object\n",
      " 26  RAISED CARDIAC ENZYMES           15757 non-null  int64 \n",
      " 27  EF                               14252 non-null  object\n",
      " 28  SEVERE ANAEMIA                   15757 non-null  int64 \n",
      " 29  ANAEMIA                          15757 non-null  int64 \n",
      " 30  STABLE ANGINA                    15757 non-null  int64 \n",
      " 31  ACS                              15757 non-null  int64 \n",
      " 32  STEMI                            15757 non-null  int64 \n",
      " 33  ATYPICAL CHEST PAIN              15757 non-null  int64 \n",
      " 34  HEART FAILURE                    15757 non-null  int64 \n",
      " 35  HFREF                            15757 non-null  int64 \n",
      " 36  HFNEF                            15757 non-null  int64 \n",
      " 37  VALVULAR                         15757 non-null  int64 \n",
      " 38  CHB                              15757 non-null  int64 \n",
      " 39  SSS                              15757 non-null  int64 \n",
      " 40  AKI                              15757 non-null  int64 \n",
      " 41  CVA INFRACT                      15757 non-null  int64 \n",
      " 42  CVA BLEED                        15757 non-null  int64 \n",
      " 43  AF                               15757 non-null  int64 \n",
      " 44  VT                               15757 non-null  int64 \n",
      " 45  PSVT                             15757 non-null  int64 \n",
      " 46  CONGENITAL                       15757 non-null  int64 \n",
      " 47  UTI                              15757 non-null  int64 \n",
      " 48  NEURO CARDIOGENIC SYNCOPE        15757 non-null  int64 \n",
      " 49  ORTHOSTATIC                      15757 non-null  int64 \n",
      " 50  INFECTIVE ENDOCARDITIS           15757 non-null  int64 \n",
      " 51  DVT                              15757 non-null  int64 \n",
      " 52  CARDIOGENIC SHOCK                15757 non-null  int64 \n",
      " 53  SHOCK                            15757 non-null  int64 \n",
      " 54  PULMONARY EMBOLISM               15757 non-null  int64 \n",
      " 55  CHEST INFECTION                  15757 non-null  object\n",
      "dtypes: int64(39), object(17)\n",
      "memory usage: 6.7+ MB\n",
      "None\n"
     ]
    }
   ],
   "source": [
    "# Data Overview\n",
    "\n",
    "print(\"DATA OVERVIEW\")\n",
    "print(admissions_df.info())"
   ]
  },
  {
   "cell_type": "markdown",
   "id": "f3bbbc4c",
   "metadata": {},
   "source": [
    "**Initial Observations:**\n",
    "\n",
    "- The dataset contains **56** columns(attributes) and **15,757** entries (representing the no. of patients).\n",
    "- There are many columns which are not relevant for the questions of our analysis so we need to remove them.\n",
    "- There are **2** dataTypes object(categorical data), int(numerical/continuous) data."
   ]
  },
  {
   "cell_type": "markdown",
   "id": "f651997a",
   "metadata": {},
   "source": [
    "**DATA PREPROCESSING**"
   ]
  },
  {
   "cell_type": "code",
   "execution_count": 204,
   "id": "737e0431",
   "metadata": {},
   "outputs": [
    {
     "data": {
      "text/html": [
       "<div>\n",
       "<style scoped>\n",
       "    .dataframe tbody tr th:only-of-type {\n",
       "        vertical-align: middle;\n",
       "    }\n",
       "\n",
       "    .dataframe tbody tr th {\n",
       "        vertical-align: top;\n",
       "    }\n",
       "\n",
       "    .dataframe thead th {\n",
       "        text-align: right;\n",
       "    }\n",
       "</style>\n",
       "<table border=\"1\" class=\"dataframe\">\n",
       "  <thead>\n",
       "    <tr style=\"text-align: right;\">\n",
       "      <th></th>\n",
       "      <th>MRD No.</th>\n",
       "      <th>AGE</th>\n",
       "      <th>GENDER</th>\n",
       "      <th>TYPE OF ADMISSION-EMERGENCY/OPD</th>\n",
       "      <th>D.O.A</th>\n",
       "      <th>PRIOR CMP</th>\n",
       "    </tr>\n",
       "  </thead>\n",
       "  <tbody>\n",
       "    <tr>\n",
       "      <th>0</th>\n",
       "      <td>234735</td>\n",
       "      <td>81</td>\n",
       "      <td>M</td>\n",
       "      <td>E</td>\n",
       "      <td>4/1/2017</td>\n",
       "      <td>0</td>\n",
       "    </tr>\n",
       "    <tr>\n",
       "      <th>1</th>\n",
       "      <td>234696</td>\n",
       "      <td>65</td>\n",
       "      <td>M</td>\n",
       "      <td>E</td>\n",
       "      <td>4/1/2017</td>\n",
       "      <td>0</td>\n",
       "    </tr>\n",
       "    <tr>\n",
       "      <th>2</th>\n",
       "      <td>234882</td>\n",
       "      <td>53</td>\n",
       "      <td>M</td>\n",
       "      <td>E</td>\n",
       "      <td>4/1/2017</td>\n",
       "      <td>0</td>\n",
       "    </tr>\n",
       "    <tr>\n",
       "      <th>3</th>\n",
       "      <td>234635</td>\n",
       "      <td>67</td>\n",
       "      <td>F</td>\n",
       "      <td>E</td>\n",
       "      <td>4/1/2017</td>\n",
       "      <td>0</td>\n",
       "    </tr>\n",
       "    <tr>\n",
       "      <th>4</th>\n",
       "      <td>234486</td>\n",
       "      <td>60</td>\n",
       "      <td>F</td>\n",
       "      <td>E</td>\n",
       "      <td>4/1/2017</td>\n",
       "      <td>1</td>\n",
       "    </tr>\n",
       "  </tbody>\n",
       "</table>\n",
       "</div>"
      ],
      "text/plain": [
       "  MRD No.  AGE GENDER TYPE OF ADMISSION-EMERGENCY/OPD     D.O.A  PRIOR CMP\n",
       "0  234735   81      M                               E  4/1/2017          0\n",
       "1  234696   65      M                               E  4/1/2017          0\n",
       "2  234882   53      M                               E  4/1/2017          0\n",
       "3  234635   67      F                               E  4/1/2017          0\n",
       "4  234486   60      F                               E  4/1/2017          1"
      ]
     },
     "execution_count": 204,
     "metadata": {},
     "output_type": "execute_result"
    }
   ],
   "source": [
    "# columns to keep\n",
    "\n",
    "admissions_df = admissions_df[['MRD No.', 'AGE', 'GENDER', 'TYPE OF ADMISSION-EMERGENCY/OPD', 'D.O.A', 'PRIOR CMP']]\n",
    "admissions_df.head()"
   ]
  },
  {
   "cell_type": "code",
   "execution_count": 205,
   "id": "3b7829ca",
   "metadata": {},
   "outputs": [
    {
     "data": {
      "text/html": [
       "<div>\n",
       "<style scoped>\n",
       "    .dataframe tbody tr th:only-of-type {\n",
       "        vertical-align: middle;\n",
       "    }\n",
       "\n",
       "    .dataframe tbody tr th {\n",
       "        vertical-align: top;\n",
       "    }\n",
       "\n",
       "    .dataframe thead th {\n",
       "        text-align: right;\n",
       "    }\n",
       "</style>\n",
       "<table border=\"1\" class=\"dataframe\">\n",
       "  <thead>\n",
       "    <tr style=\"text-align: right;\">\n",
       "      <th></th>\n",
       "      <th>patient_id</th>\n",
       "      <th>age</th>\n",
       "      <th>gender</th>\n",
       "      <th>admission_type</th>\n",
       "      <th>admission_date</th>\n",
       "      <th>previous_visits</th>\n",
       "    </tr>\n",
       "  </thead>\n",
       "  <tbody>\n",
       "    <tr>\n",
       "      <th>0</th>\n",
       "      <td>234735</td>\n",
       "      <td>81</td>\n",
       "      <td>M</td>\n",
       "      <td>E</td>\n",
       "      <td>4/1/2017</td>\n",
       "      <td>0</td>\n",
       "    </tr>\n",
       "    <tr>\n",
       "      <th>1</th>\n",
       "      <td>234696</td>\n",
       "      <td>65</td>\n",
       "      <td>M</td>\n",
       "      <td>E</td>\n",
       "      <td>4/1/2017</td>\n",
       "      <td>0</td>\n",
       "    </tr>\n",
       "    <tr>\n",
       "      <th>2</th>\n",
       "      <td>234882</td>\n",
       "      <td>53</td>\n",
       "      <td>M</td>\n",
       "      <td>E</td>\n",
       "      <td>4/1/2017</td>\n",
       "      <td>0</td>\n",
       "    </tr>\n",
       "    <tr>\n",
       "      <th>3</th>\n",
       "      <td>234635</td>\n",
       "      <td>67</td>\n",
       "      <td>F</td>\n",
       "      <td>E</td>\n",
       "      <td>4/1/2017</td>\n",
       "      <td>0</td>\n",
       "    </tr>\n",
       "    <tr>\n",
       "      <th>4</th>\n",
       "      <td>234486</td>\n",
       "      <td>60</td>\n",
       "      <td>F</td>\n",
       "      <td>E</td>\n",
       "      <td>4/1/2017</td>\n",
       "      <td>1</td>\n",
       "    </tr>\n",
       "  </tbody>\n",
       "</table>\n",
       "</div>"
      ],
      "text/plain": [
       "  patient_id  age gender admission_type admission_date  previous_visits\n",
       "0     234735   81      M              E       4/1/2017                0\n",
       "1     234696   65      M              E       4/1/2017                0\n",
       "2     234882   53      M              E       4/1/2017                0\n",
       "3     234635   67      F              E       4/1/2017                0\n",
       "4     234486   60      F              E       4/1/2017                1"
      ]
     },
     "execution_count": 205,
     "metadata": {},
     "output_type": "execute_result"
    }
   ],
   "source": [
    "# rename columns \n",
    "\n",
    "admissions_df.rename(columns={\n",
    "    'MRD No.': 'patient_id',\n",
    "    'AGE': 'age',\n",
    "    'GENDER': 'gender',\n",
    "    'TYPE OF ADMISSION-EMERGENCY/OPD': 'admission_type',\n",
    "    'D.O.A': 'admission_date',\n",
    "    'PRIOR CMP': 'previous_visits'\n",
    "}, inplace=True)\n",
    "\n",
    "admissions_df.head()\n"
   ]
  },
  {
   "cell_type": "code",
   "execution_count": 206,
   "id": "e8167f5b",
   "metadata": {},
   "outputs": [
    {
     "name": "stdout",
     "output_type": "stream",
     "text": [
      "<class 'pandas.core.frame.DataFrame'>\n",
      "RangeIndex: 15757 entries, 0 to 15756\n",
      "Data columns (total 6 columns):\n",
      " #   Column           Non-Null Count  Dtype \n",
      "---  ------           --------------  ----- \n",
      " 0   patient_id       15757 non-null  object\n",
      " 1   age              15757 non-null  int64 \n",
      " 2   gender           15757 non-null  object\n",
      " 3   admission_type   15757 non-null  object\n",
      " 4   admission_date   15757 non-null  object\n",
      " 5   previous_visits  15757 non-null  int64 \n",
      "dtypes: int64(2), object(4)\n",
      "memory usage: 738.7+ KB\n"
     ]
    }
   ],
   "source": [
    "admissions_df.info() # get teh data overview again"
   ]
  },
  {
   "cell_type": "code",
   "execution_count": 207,
   "id": "7387448e",
   "metadata": {},
   "outputs": [
    {
     "data": {
      "text/html": [
       "<div>\n",
       "<style scoped>\n",
       "    .dataframe tbody tr th:only-of-type {\n",
       "        vertical-align: middle;\n",
       "    }\n",
       "\n",
       "    .dataframe tbody tr th {\n",
       "        vertical-align: top;\n",
       "    }\n",
       "\n",
       "    .dataframe thead th {\n",
       "        text-align: right;\n",
       "    }\n",
       "</style>\n",
       "<table border=\"1\" class=\"dataframe\">\n",
       "  <thead>\n",
       "    <tr style=\"text-align: right;\">\n",
       "      <th></th>\n",
       "      <th>patient_id</th>\n",
       "      <th>age</th>\n",
       "      <th>gender</th>\n",
       "      <th>admission_type</th>\n",
       "      <th>admission_date</th>\n",
       "      <th>previous_visits</th>\n",
       "      <th>admission_day</th>\n",
       "    </tr>\n",
       "  </thead>\n",
       "  <tbody>\n",
       "    <tr>\n",
       "      <th>0</th>\n",
       "      <td>234735</td>\n",
       "      <td>81</td>\n",
       "      <td>M</td>\n",
       "      <td>E</td>\n",
       "      <td>2017-04-01</td>\n",
       "      <td>0</td>\n",
       "      <td>Saturday</td>\n",
       "    </tr>\n",
       "    <tr>\n",
       "      <th>1</th>\n",
       "      <td>234696</td>\n",
       "      <td>65</td>\n",
       "      <td>M</td>\n",
       "      <td>E</td>\n",
       "      <td>2017-04-01</td>\n",
       "      <td>0</td>\n",
       "      <td>Saturday</td>\n",
       "    </tr>\n",
       "    <tr>\n",
       "      <th>2</th>\n",
       "      <td>234882</td>\n",
       "      <td>53</td>\n",
       "      <td>M</td>\n",
       "      <td>E</td>\n",
       "      <td>2017-04-01</td>\n",
       "      <td>0</td>\n",
       "      <td>Saturday</td>\n",
       "    </tr>\n",
       "    <tr>\n",
       "      <th>3</th>\n",
       "      <td>234635</td>\n",
       "      <td>67</td>\n",
       "      <td>F</td>\n",
       "      <td>E</td>\n",
       "      <td>2017-04-01</td>\n",
       "      <td>0</td>\n",
       "      <td>Saturday</td>\n",
       "    </tr>\n",
       "    <tr>\n",
       "      <th>4</th>\n",
       "      <td>234486</td>\n",
       "      <td>60</td>\n",
       "      <td>F</td>\n",
       "      <td>E</td>\n",
       "      <td>2017-04-01</td>\n",
       "      <td>1</td>\n",
       "      <td>Saturday</td>\n",
       "    </tr>\n",
       "  </tbody>\n",
       "</table>\n",
       "</div>"
      ],
      "text/plain": [
       "  patient_id  age gender admission_type admission_date  previous_visits  \\\n",
       "0     234735   81      M              E     2017-04-01                0   \n",
       "1     234696   65      M              E     2017-04-01                0   \n",
       "2     234882   53      M              E     2017-04-01                0   \n",
       "3     234635   67      F              E     2017-04-01                0   \n",
       "4     234486   60      F              E     2017-04-01                1   \n",
       "\n",
       "  admission_day  \n",
       "0      Saturday  \n",
       "1      Saturday  \n",
       "2      Saturday  \n",
       "3      Saturday  \n",
       "4      Saturday  "
      ]
     },
     "execution_count": 207,
     "metadata": {},
     "output_type": "execute_result"
    }
   ],
   "source": [
    "# convert 'admission_date' to datetime\n",
    "\n",
    "admissions_df['admission_date'] = pd.to_datetime(admissions_df['admission_date'], errors='coerce')\n",
    "\n",
    "# extract \"admission_day\" from \"admission_date\"\n",
    "\n",
    "admissions_df['admission_day'] = admissions_df['admission_date'].dt.day_name()\n",
    "\n",
    "admissions_df.head()"
   ]
  },
  {
   "cell_type": "code",
   "execution_count": 208,
   "id": "5de47b1f",
   "metadata": {},
   "outputs": [
    {
     "name": "stdout",
     "output_type": "stream",
     "text": [
      "<class 'pandas.core.frame.DataFrame'>\n",
      "RangeIndex: 15757 entries, 0 to 15756\n",
      "Data columns (total 7 columns):\n",
      " #   Column           Non-Null Count  Dtype         \n",
      "---  ------           --------------  -----         \n",
      " 0   patient_id       15757 non-null  object        \n",
      " 1   age              15757 non-null  int64         \n",
      " 2   gender           15757 non-null  object        \n",
      " 3   admission_type   15757 non-null  object        \n",
      " 4   admission_date   10102 non-null  datetime64[ns]\n",
      " 5   previous_visits  15757 non-null  int64         \n",
      " 6   admission_day    10102 non-null  object        \n",
      "dtypes: datetime64[ns](1), int64(2), object(4)\n",
      "memory usage: 861.8+ KB\n",
      "None\n",
      "NUMERIC DATA STATS\n",
      "                age                 admission_date  previous_visits\n",
      "count  15757.000000                          10102     15757.000000\n",
      "mean      61.426160  2018-02-08 14:55:19.897049856         0.154471\n",
      "min        4.000000            2017-01-04 00:00:00         0.000000\n",
      "25%       54.000000            2017-08-06 00:00:00         0.000000\n",
      "50%       62.000000            2017-12-14 00:00:00         0.000000\n",
      "75%       70.000000            2018-07-10 00:00:00         0.000000\n",
      "max      110.000000            2019-12-03 00:00:00         1.000000\n",
      "std       13.420862                            NaN         0.361411\n"
     ]
    }
   ],
   "source": [
    "print(admissions_df.info())\n",
    "\n",
    "# Numeric Data Stats\n",
    "print(\"NUMERIC DATA STATS\")\n",
    "print(admissions_df.describe())"
   ]
  },
  {
   "cell_type": "markdown",
   "id": "678e62d6",
   "metadata": {},
   "source": [
    "- After removing the irrelevant columns and adding new columns we have **7** columns(Attributes) left.\n",
    "- It contains **15,757** rows/entries(representing no. of patients).\n",
    "- **3** DataTypes **object, integer, datetime**. This indicates that dataset is mix of continuous/numerical, catgorical and time data.\n",
    "- The avg. age of patient's is approx. **61.42** years, with min age of 4 years and max of 110 years.\n",
    "- The mean 61.42 years indicate majority of the patients are older.\n",
    "- Mostly patients are first time visitors as the mean is low approximately **0.15**."
   ]
  },
  {
   "cell_type": "code",
   "execution_count": 209,
   "id": "5af9453f",
   "metadata": {},
   "outputs": [
    {
     "name": "stdout",
     "output_type": "stream",
     "text": [
      "MISSING VALUES\n",
      "patient_id            0\n",
      "age                   0\n",
      "gender                0\n",
      "admission_type        0\n",
      "admission_date     5655\n",
      "previous_visits       0\n",
      "admission_day      5655\n",
      "dtype: int64\n",
      "\n",
      "MISSING VALUES PERCENTAGE:\n",
      "patient_id          0.000000\n",
      "age                 0.000000\n",
      "gender              0.000000\n",
      "admission_type      0.000000\n",
      "admission_date     35.888811\n",
      "previous_visits     0.000000\n",
      "admission_day      35.888811\n",
      "dtype: float64\n",
      "\n",
      "DUPLICATED VALUES\n",
      "1409\n"
     ]
    }
   ],
   "source": [
    "# Data Cleaning \n",
    "\n",
    "# check missing values\n",
    "print(\"MISSING VALUES\")\n",
    "missing_entries = admissions_df.isnull().sum()\n",
    "print(missing_entries)\n",
    "\n",
    "total_entries = admissions_df.shape[0]\n",
    "missing_entries_percentage = (missing_entries/total_entries) * 100\n",
    "print(f\"\\nMISSING VALUES PERCENTAGE:\\n{missing_entries_percentage}\")\n",
    "\n",
    "# check for duplicated values\n",
    "print(\"\\nDUPLICATED VALUES\")\n",
    "print(admissions_df.duplicated().sum())"
   ]
  },
  {
   "cell_type": "markdown",
   "id": "ed0b220d",
   "metadata": {},
   "source": [
    "- We have **5655** missing values in admission_date and admission_day columns.\n",
    "- We have **1409** duplicated entries in our dataset."
   ]
  },
  {
   "cell_type": "code",
   "execution_count": 210,
   "id": "8f8987ba",
   "metadata": {},
   "outputs": [
    {
     "name": "stdout",
     "output_type": "stream",
     "text": [
      "0\n",
      "(14348, 7)\n"
     ]
    }
   ],
   "source": [
    "# Handling Duplicated values\n",
    "\n",
    "admissions_df = admissions_df.drop_duplicates()\n",
    "print(admissions_df.duplicated().sum())\n",
    "print(admissions_df.shape)"
   ]
  },
  {
   "cell_type": "markdown",
   "id": "5c9df0b1",
   "metadata": {},
   "source": [
    "- After removing the duplicated entries **14,347** entries are left."
   ]
  },
  {
   "cell_type": "code",
   "execution_count": 211,
   "id": "e017a211",
   "metadata": {},
   "outputs": [
    {
     "data": {
      "text/plain": [
       "patient_id         0\n",
       "age                0\n",
       "gender             0\n",
       "admission_type     0\n",
       "admission_date     0\n",
       "previous_visits    0\n",
       "admission_day      0\n",
       "dtype: int64"
      ]
     },
     "execution_count": 211,
     "metadata": {},
     "output_type": "execute_result"
    }
   ],
   "source": [
    "# Handling Missing values\n",
    "\n",
    "most_frequent_date = admissions_df['admission_date'].mode()[0]\n",
    "admissions_df['admission_date'] = admissions_df['admission_date'].fillna(most_frequent_date)\n",
    "\n",
    "# re extract admission_day from admission_date\n",
    "\n",
    "admissions_df['admission_day'] = admissions_df['admission_date'].dt.day_name()\n",
    "\n",
    "# check again for missing values\n",
    "admissions_df.isnull().sum()"
   ]
  },
  {
   "cell_type": "markdown",
   "id": "4fa20444",
   "metadata": {},
   "source": [
    "- Since **35.9%** of the admission dates were missing, dropping them would result in significant data loss, so I imputed them with the most frequent admission date. As it was a suitable approach to preserve the dataset and ensure reliable trend analysis."
   ]
  },
  {
   "cell_type": "markdown",
   "id": "c8ea4e41",
   "metadata": {},
   "source": [
    "**EXPLORATORY DATA ANALYSIS: INSIGHTS INTO PATIENT ADMISSIONS AT THE HOSPITAL**"
   ]
  },
  {
   "cell_type": "markdown",
   "id": "d9dfd8b4",
   "metadata": {},
   "source": [
    "**1. Total Number of Admissions**"
   ]
  },
  {
   "cell_type": "code",
   "execution_count": 212,
   "id": "757eef13",
   "metadata": {},
   "outputs": [
    {
     "name": "stdout",
     "output_type": "stream",
     "text": [
      "\n",
      "Total Admissions: 14348\n"
     ]
    }
   ],
   "source": [
    "total_admissions = len(admissions_df['patient_id'])\n",
    "print(f\"\\nTotal Admissions: {total_admissions}\")"
   ]
  },
  {
   "cell_type": "markdown",
   "id": "658268ac",
   "metadata": {},
   "source": [
    "**2. Distribution of Gender among admitted patients**"
   ]
  },
  {
   "cell_type": "code",
   "execution_count": 213,
   "id": "5b744302",
   "metadata": {},
   "outputs": [
    {
     "name": "stdout",
     "output_type": "stream",
     "text": [
      "\n",
      "Genders Count:\n",
      " gender\n",
      "Male      9095\n",
      "Female    5253\n",
      "Name: count, dtype: int64\n",
      "\n",
      "Gender %:\n",
      " gender\n",
      "Male      63.39\n",
      "Female    36.61\n",
      "Name: count, dtype: float64\n"
     ]
    },
    {
     "data": {
      "image/png": "[encoded data removed]",
      "text/plain": [
       "<Figure size 700x500 with 1 Axes>"
      ]
     },
     "metadata": {},
     "output_type": "display_data"
    }
   ],
   "source": [
    "admissions_df[\"gender\"] = admissions_df[\"gender\"].replace({\"M\": \"Male\", \"F\": \"Female\"})\n",
    "genders_count = admissions_df['gender'].value_counts()\n",
    "\n",
    "print(f\"\\nGenders Count:\\n {genders_count}\")\n",
    "\n",
    "gender_percentage = (genders_count/ total_admissions) * 100\n",
    "print(f\"\\nGender %:\\n {gender_percentage.round(2)}\")\n",
    "\n",
    "fig, ax = plt.subplots(figsize=(7, 5))\n",
    "ax.bar(gender_percentage.index, gender_percentage.values, color=['blue', 'pink'])\n",
    "ax.set_title(\"Gender Distribution of Admitted Patients\")\n",
    "ax.set_xlabel(\"Gender\")\n",
    "ax.set_ylabel(\"Percentage (%) of Patients\")\n",
    "plt.show()"
   ]
  },
  {
   "cell_type": "markdown",
   "id": "988f7ead",
   "metadata": {},
   "source": [
    "- A significantly higher no. of **male patients (63.39%)** were admitted to the hospital compared to female patients (36.61%)."
   ]
  },
  {
   "cell_type": "markdown",
   "id": "e7a92262",
   "metadata": {},
   "source": [
    "**3. Most Frequently Admitted Age Group**"
   ]
  },
  {
   "cell_type": "code",
   "execution_count": 214,
   "id": "3f9577dd",
   "metadata": {},
   "outputs": [
    {
     "name": "stdout",
     "output_type": "stream",
     "text": [
      "\n",
      "Most Frequently admitted Age Group: 66+\n",
      "\n",
      "Age Group Count:\n",
      "age_group\n",
      "0-18       52\n",
      "19-35     483\n",
      "36-50    1819\n",
      "51-65    5718\n",
      "66+      6274\n",
      "Name: count, dtype: int64\n"
     ]
    },
    {
     "data": {
      "image/png": "[encoded data removed]",
      "text/plain": [
       "<Figure size 700x500 with 1 Axes>"
      ]
     },
     "metadata": {},
     "output_type": "display_data"
    }
   ],
   "source": [
    "# bucketization\n",
    "bins = [0, 18, 35, 50, 65, 100]\n",
    "labels = ['0-18', '19-35', '36-50', '51-65', '66+']\n",
    "admissions_df[\"age_group\"] = pd.cut(admissions_df['age'], bins=bins, labels=labels, right=False)\n",
    "\n",
    "most_frequent_age_group = admissions_df['age_group'].mode()[0]\n",
    "print(f\"\\nMost Frequently admitted Age Group: {most_frequent_age_group}\")\n",
    "\n",
    "age_group_count = admissions_df['age_group'].value_counts().sort_index()\n",
    "print(f\"\\nAge Group Count:\\n{age_group_count}\")\n",
    "\n",
    "fig, ax = plt.subplots(figsize=(7, 5))\n",
    "ax.bar(age_group_count.index, age_group_count.values, color='green')\n",
    "ax.set_title(\"Age Group Distribution of Admitted Patients\")\n",
    "ax.set_xlabel(\"Age Group\")\n",
    "ax.set_ylabel(\"Count\")\n",
    "plt.show()"
   ]
  },
  {
   "cell_type": "markdown",
   "id": "98ae157f",
   "metadata": {},
   "source": [
    "- The most frequently admitted Age-group is **66+**, indicating a higher hospitalization rate among elderly patients."
   ]
  },
  {
   "cell_type": "markdown",
   "id": "ae7da73e",
   "metadata": {},
   "source": [
    "**4. Most Common Admission Types**"
   ]
  },
  {
   "cell_type": "code",
   "execution_count": 215,
   "id": "15fd4097",
   "metadata": {},
   "outputs": [
    {
     "name": "stdout",
     "output_type": "stream",
     "text": [
      "\n",
      "Admission Types Count:\n",
      "admission_type\n",
      "Emergency    9934\n",
      "OPD          4414\n",
      "Name: count, dtype: int64\n"
     ]
    },
    {
     "data": {
      "image/png": "[encoded data removed]",
      "text/plain": [
       "<Figure size 700x500 with 1 Axes>"
      ]
     },
     "metadata": {},
     "output_type": "display_data"
    }
   ],
   "source": [
    "admissions_df[\"admission_type\"] = admissions_df[\"admission_type\"].replace({ \"E\": \"Emergency\",\"O\": \"OPD\"})\n",
    "admission_types_count = admissions_df['admission_type'].value_counts()\n",
    "\n",
    "print(f\"\\nAdmission Types Count:\\n{admission_types_count}\")\n",
    "\n",
    "fig, ax = plt.subplots(figsize=(7, 5))\n",
    "ax.bar(admission_types_count.index, admission_types_count.values, color=[\"red\",\"blue\"])\n",
    "ax.set_title(\"Admission Type Distribution\")\n",
    "ax.set_xlabel(\"Admission Type\")\n",
    "ax.set_ylabel(\"Count\")\n",
    "plt.show()"
   ]
  },
  {
   "cell_type": "markdown",
   "id": "33ed9780",
   "metadata": {},
   "source": [
    "- The most common admission type is **Emergency**, with **9934** cases, which is significantly higher than OPD, **4414** cases. Suggesting that hospital deals with more emergency patients compared to OPD."
   ]
  },
  {
   "cell_type": "markdown",
   "id": "08378fde",
   "metadata": {},
   "source": [
    "**5. Day of the Week with Most Patient Admissions**"
   ]
  },
  {
   "cell_type": "code",
   "execution_count": 216,
   "id": "7b30a239",
   "metadata": {},
   "outputs": [
    {
     "name": "stdout",
     "output_type": "stream",
     "text": [
      "\n",
      "Admission Day Count:\n",
      "admission_day\n",
      "Monday       6272\n",
      "Tuesday      1491\n",
      "Wednesday    1304\n",
      "Thursday     1378\n",
      "Friday       1373\n",
      "Saturday     1323\n",
      "Sunday       1207\n",
      "Name: count, dtype: int64\n"
     ]
    },
    {
     "data": {
      "image/png": "[encoded data removed]",
      "text/plain": [
       "<Figure size 700x500 with 1 Axes>"
      ]
     },
     "metadata": {},
     "output_type": "display_data"
    }
   ],
   "source": [
    "admission_day_count = admissions_df['admission_day'].value_counts()\n",
    "admission_day_count = admission_day_count.reindex(['Monday', 'Tuesday', 'Wednesday', 'Thursday', 'Friday', 'Saturday', 'Sunday'])\n",
    "print(f\"\\nAdmission Day Count:\\n{admission_day_count}\")\n",
    "\n",
    "fig, ax = plt.subplots(figsize=(7, 5))\n",
    "ax.bar(admission_day_count.index, admission_day_count.values, color='purple')\n",
    "ax.set_title(\"Admission Day Distribution\")\n",
    "ax.set_xlabel(\"Admission Day\")\n",
    "ax.set_ylabel(\"Count\")\n",
    "ax.tick_params(axis='x', rotation=45)\n",
    "plt.show()"
   ]
  },
  {
   "cell_type": "markdown",
   "id": "10c09567",
   "metadata": {},
   "source": [
    "- The day with the highest number of patient admissions is **Monday (6272 cases)**. This significantly exceeds the admission counts on other days, indicating a potential trend of increased admissions after the weekend."
   ]
  },
  {
   "cell_type": "markdown",
   "id": "4f61d04f",
   "metadata": {},
   "source": [
    "**6. Percentage of Patients with Previous Visits**"
   ]
  },
  {
   "cell_type": "code",
   "execution_count": 217,
   "id": "e77b5e9a",
   "metadata": {},
   "outputs": [
    {
     "name": "stdout",
     "output_type": "stream",
     "text": [
      "\n",
      "Number of Patients with Previous Visits: 2229\n",
      "Percentage of Patients with Previous Visits: 15.54%\n"
     ]
    }
   ],
   "source": [
    "previous_visited_count = len(admissions_df[admissions_df['previous_visits'] > 0])\n",
    "print(f\"\\nNumber of Patients with Previous Visits: {previous_visited_count}\")\n",
    "previous_visited_percentage = (previous_visited_count / total_admissions) * 100\n",
    "print(f\"Percentage of Patients with Previous Visits: {previous_visited_percentage:.2f}%\")"
   ]
  },
  {
   "cell_type": "markdown",
   "id": "dcf51eb4",
   "metadata": {},
   "source": [
    "- **15.54%** of patients admitted have visited the hospital before, indicating that a small portion of the hospital's admissions are recurring patients. This suggests that most patients are either first-time visitors or one-time cases"
   ]
  },
  {
   "cell_type": "markdown",
   "id": "56b29ad8",
   "metadata": {},
   "source": [
    "**7. Admission Type Distribution Across Genders**"
   ]
  },
  {
   "cell_type": "code",
   "execution_count": 218,
   "id": "f3ed8b07",
   "metadata": {},
   "outputs": [
    {
     "name": "stdout",
     "output_type": "stream",
     "text": [
      "Admission Types by Gender:\n",
      " admission_type  Emergency   OPD\n",
      "gender                         \n",
      "Female               3693  1560\n",
      "Male                 6241  2854\n"
     ]
    },
    {
     "data": {
      "image/png": "[encoded data removed]",
      "text/plain": [
       "<Figure size 800x600 with 1 Axes>"
      ]
     },
     "metadata": {},
     "output_type": "display_data"
    }
   ],
   "source": [
    "admission_type_by_gender = pd.crosstab(admissions_df['gender'], admissions_df['admission_type'])\n",
    "print('Admission Types by Gender:\\n', admission_type_by_gender)\n",
    "\n",
    "\n",
    "fig, ax = plt.subplots(figsize=(8, 6))\n",
    "\n",
    "ax.bar(admission_type_by_gender.index, admission_type_by_gender[\"Emergency\"], color=\"red\", label=\"Emergency\")\n",
    "ax.bar(admission_type_by_gender.index, admission_type_by_gender[\"OPD\"], bottom=admission_type_by_gender[\"Emergency\"], color=\"blue\", label=\"OPD\")\n",
    "\n",
    "ax.set_title(\"Admission Type Distribution by gender\")\n",
    "ax.set_xlabel(\"Genders\")\n",
    "ax.set_ylabel(\"Count\")\n",
    "ax.legend()\n",
    "plt.show()"
   ]
  },
  {
   "cell_type": "markdown",
   "id": "b77269b5",
   "metadata": {},
   "source": [
    "- From both the stacked bar chart and the contigency/frequency table, we clearly see that more **Male** patients were admitted for both **Emergency** and **OPD** compared to female patients. \n",
    "- This indicates possible gender-based differences in healthcare utilization, underlying health conditions, or may reflect the population distribution in the dataset."
   ]
  },
  {
   "cell_type": "markdown",
   "id": "32aef69b",
   "metadata": {},
   "source": [
    "**8. Visualizing Interesting Patterns In Data**"
   ]
  },
  {
   "cell_type": "markdown",
   "id": "8ff93120",
   "metadata": {},
   "source": [
    "**8.1. Trend of Admissions Over Months (Seasonality Analysis)**"
   ]
  },
  {
   "cell_type": "code",
   "execution_count": 219,
   "id": "aac41864",
   "metadata": {},
   "outputs": [
    {
     "name": "stdout",
     "output_type": "stream",
     "text": [
      "\n",
      "Monthly Admissions Count:\n",
      "admission_month\n",
      "January      5237\n",
      "February      424\n",
      "March         546\n",
      "April         851\n",
      "May          1002\n",
      "June          892\n",
      "July          995\n",
      "August        828\n",
      "September     885\n",
      "October       828\n",
      "November     1028\n",
      "December      832\n",
      "Name: count, dtype: int64\n"
     ]
    },
    {
     "data": {
      "image/png": "[encoded data removed]",
      "text/plain": [
       "<Figure size 1000x500 with 1 Axes>"
      ]
     },
     "metadata": {},
     "output_type": "display_data"
    }
   ],
   "source": [
    "# extract month from admission_date\n",
    "\n",
    "admissions_df['admission_month'] = admissions_df['admission_date'].dt.month_name()\n",
    "\n",
    "# count of admissions by month\n",
    "\n",
    "monthly_admissions_count = admissions_df['admission_month'].value_counts()\n",
    "monthly_admissions_count = monthly_admissions_count.reindex([\n",
    "    'January', 'February', 'March', 'April', 'May', 'June',\n",
    "    'July', 'August', 'September', 'October', 'November', 'December'\n",
    "])\n",
    "\n",
    "print(f\"\\nMonthly Admissions Count:\\n{monthly_admissions_count}\")\n",
    "\n",
    "fig, ax = plt.subplots(figsize=(10, 5))\n",
    "ax.bar(monthly_admissions_count.index, monthly_admissions_count.values, color='orange')\n",
    "ax.set_title(\"Monthly Admissions Distribution\")\n",
    "ax.set_xlabel(\"Month\")\n",
    "ax.set_ylabel(\"Count\")\n",
    "ax.tick_params(axis='x', rotation=45)\n",
    "plt.show()"
   ]
  },
  {
   "cell_type": "markdown",
   "id": "b1017aed",
   "metadata": {},
   "source": [
    "- From the visualization, the highest number of hospital admissions occurred in **January (5236)** cases.\n",
    "- This spike could be due to seasonal health issues in winter, like flu or cold.\n",
    "- There is also a slight increase in May and November, possibly indicating health changes during seasonal transitions."
   ]
  },
  {
   "cell_type": "markdown",
   "id": "a40c65b4",
   "metadata": {},
   "source": [
    "**8.2. Emergency Admission Rate by Age Group**"
   ]
  },
  {
   "cell_type": "code",
   "execution_count": 220,
   "id": "5d66e6b0",
   "metadata": {},
   "outputs": [
    {
     "name": "stdout",
     "output_type": "stream",
     "text": [
      "\n",
      "Emergency Admission Rate by Age Group:\n",
      "age_group\n",
      "0-18     34.62\n",
      "19-35    68.12\n",
      "36-50    64.32\n",
      "51-65    67.07\n",
      "66+      73.02\n",
      "Name: count, dtype: float64\n"
     ]
    },
    {
     "data": {
      "image/png": "[encoded data removed]",
      "text/plain": [
       "<Figure size 800x500 with 1 Axes>"
      ]
     },
     "metadata": {},
     "output_type": "display_data"
    }
   ],
   "source": [
    "emergency_age_group_count = admissions_df[admissions_df['admission_type'] == 'Emergency']['age_group'].value_counts().sort_index()\n",
    "\n",
    "emergency_rate = (emergency_age_group_count / age_group_count) * 100\n",
    "\n",
    "print(f\"\\nEmergency Admission Rate by Age Group:\\n{emergency_rate.round(2)}\")\n",
    "\n",
    "fig, ax = plt.subplots(figsize=(8, 5))\n",
    "ax.bar(emergency_rate.index, emergency_rate.values, color='red', label='Emergency')\n",
    "ax.set_title(\"Emergency Admission Rate by Age Group\")\n",
    "ax.set_xlabel(\"Age Group\")\n",
    "ax.set_ylabel(\"Emergency Admission Rate (%)\")\n",
    "ax.legend()\n",
    "plt.show()"
   ]
  },
  {
   "cell_type": "markdown",
   "id": "27b72f23",
   "metadata": {},
   "source": [
    "- The **66+** age group has the highest emergency admission rate **(73.02%)**, which shows that older people may have more serious health problems.\n",
    "- The **19–35** group also has a high rate **(68.12%)**, possibly due to accidents or stress-related issues.\n",
    "- So, both young adults and seniors are visiting in emergencies more than others, but for different reasons."
   ]
  },
  {
   "cell_type": "markdown",
   "id": "65d50e1b",
   "metadata": {},
   "source": [
    "**8.3. Average Number of Previous Visits by Admission Type**"
   ]
  },
  {
   "cell_type": "code",
   "execution_count": 221,
   "id": "fa40d5a4",
   "metadata": {},
   "outputs": [
    {
     "name": "stdout",
     "output_type": "stream",
     "text": [
      "Avg. Previous Visits per Admission Type:\n",
      " admission_type\n",
      "Emergency    0.18\n",
      "OPD          0.10\n",
      "Name: previous_visits, dtype: float64\n"
     ]
    },
    {
     "data": {
      "image/png": "[encoded data removed]",
      "text/plain": [
       "<Figure size 800x500 with 1 Axes>"
      ]
     },
     "metadata": {},
     "output_type": "display_data"
    }
   ],
   "source": [
    "avg_visits_per_admission_type = admissions_df.groupby('admission_type')['previous_visits'].mean()\n",
    "print(f'Avg. Previous Visits per Admission Type:\\n {avg_visits_per_admission_type.round(2)}')\n",
    "\n",
    "fig, ax = plt.subplots(figsize=(8, 5))\n",
    "ax.bar(avg_visits_per_admission_type.index, avg_visits_per_admission_type.values, color=['red', 'blue'])\n",
    "ax.set_title(\"Average Previous Visits per Admission Type\")\n",
    "ax.set_xlabel(\"Admission Type\")\n",
    "ax.set_ylabel(\"Average Previous Visits\")\n",
    "plt.show()"
   ]
  },
  {
   "cell_type": "markdown",
   "id": "1dbe7188",
   "metadata": {},
   "source": [
    "- On average, patients admitted through **Emergency** have visited the hospital more times before **(0.18)** than those admitted through OPD (0.10). This means that some emergency patients may have had earlier visits to the hospital possibly because of ongoing or repeated health problems."
   ]
  }
 ],
 "metadata": {
  "kernelspec": {
   "display_name": "Python 3",
   "language": "python",
   "name": "python3"
  },
  "language_info": {
   "codemirror_mode": {
    "name": "ipython",
    "version": 3
   },
   "file_extension": ".py",
   "mimetype": "text/x-python",
   "name": "python",
   "nbconvert_exporter": "python",
   "pygments_lexer": "ipython3",
   "version": "3.12.5"
  }
 },
 "nbformat": 4,
 "nbformat_minor": 5
}
